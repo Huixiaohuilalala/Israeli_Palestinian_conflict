{
 "cells": [
  {
   "cell_type": "code",
   "execution_count": 2,
   "id": "dd463e27-1934-4f63-a029-b41250446648",
   "metadata": {},
   "outputs": [],
   "source": [
    "import pandas as pd\n",
    "from wordcloud import WordCloud\n",
    "import matplotlib.pyplot as plt\n",
    "import numpy as np"
   ]
  },
  {
   "cell_type": "code",
   "execution_count": 11,
   "id": "b3559052-6589-49aa-8f4a-b469c918e9d9",
   "metadata": {},
   "outputs": [
    {
     "data": {
      "text/plain": [
       "<wordcloud.wordcloud.WordCloud at 0x2a7b4ab8160>"
      ]
     },
     "execution_count": 11,
     "metadata": {},
     "output_type": "execute_result"
    }
   ],
   "source": [
    "df = pd.read_csv('./ENdata/reddit_4.csv')\n",
    "document = df['self_text'].values.astype('U')\n",
    "text = \" \".join(document)\n",
    "img = plt.imread('./data/img.jpg')\n",
    "img = img.astype(np.uint8)\n",
    "# wc = WordCloud(font_path='C:\\Windows\\Fonts\\simhei.ttf',mask = img, background_color='white')\n",
    "wc.generate(text)\n",
    "wc.to_file('./ENdata/wordCloud/wordcloud_4.jpg')"
   ]
  },
  {
   "cell_type": "code",
   "execution_count": null,
   "id": "51518ed2-08eb-44db-9c6c-16d7bccb7bd2",
   "metadata": {},
   "outputs": [],
   "source": []
  }
 ],
 "metadata": {
  "kernelspec": {
   "display_name": "data",
   "language": "python",
   "name": "data"
  },
  "language_info": {
   "codemirror_mode": {
    "name": "ipython",
    "version": 3
   },
   "file_extension": ".py",
   "mimetype": "text/x-python",
   "name": "python",
   "nbconvert_exporter": "python",
   "pygments_lexer": "ipython3",
   "version": "3.8.18"
  }
 },
 "nbformat": 4,
 "nbformat_minor": 5
}
