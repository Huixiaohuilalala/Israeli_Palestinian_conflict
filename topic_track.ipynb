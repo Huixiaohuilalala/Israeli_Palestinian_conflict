{
 "cells": [
  {
   "cell_type": "code",
   "execution_count": 1,
   "id": "8c3cc53e-0d93-4026-998a-e3eba198f599",
   "metadata": {},
   "outputs": [],
   "source": [
    "import joblib\n",
    "import numpy as np\n",
    "from gensim import corpora\n",
    "from gensim.models import LdaModel\n",
    "from gensim import models\n",
    "from gensim.corpora import Dictionary\n",
    "import pandas as pd\n",
    "import matplotlib.pyplot as plt\n",
    "from gensim.models import CoherenceModel\n",
    "from pyLDAvis import gensim\n",
    "import pyLDAvis\n",
    "import numpy as np"
   ]
  },
  {
   "cell_type": "code",
   "execution_count": 2,
   "id": "b946745a-5044-4c8d-a17c-204dbea9594f",
   "metadata": {},
   "outputs": [],
   "source": [
    "cls = joblib.load('./classifyModel/EN/poly.model')"
   ]
  },
  {
   "cell_type": "code",
   "execution_count": 3,
   "id": "d4bd5508-ca30-475f-9f57-76058edeb699",
   "metadata": {},
   "outputs": [],
   "source": [
    "def map2list(x):\n",
    "    return x.split()"
   ]
  },
  {
   "cell_type": "code",
   "execution_count": 4,
   "id": "a37ced08-2361-496a-9d0a-dce60a98d3f8",
   "metadata": {},
   "outputs": [],
   "source": [
    "dataFrame = pd.read_csv('./ENdata/reddit_2.csv')\n",
    "texts = dataFrame['text'].map(map2list).values\n",
    "dictionary = Dictionary(texts)\n",
    "# 压缩词向量，去掉出现的文章小于2的词，和在50%的文章都出现的词，整体长度限制在1000\n",
    "dictionary.filter_extremes(no_below=2, no_above=0.5, keep_n=1000)\n",
    "corpus = [dictionary.doc2bow(text) for text in texts]\n",
    "# 进行TF/IDF编码\n",
    "tfidf = models.TfidfModel(corpus)\n",
    "corpus_tfidf = tfidf[corpus]"
   ]
  },
  {
   "cell_type": "code",
   "execution_count": 5,
   "id": "0d2eb968-ea23-4d1a-984f-a07066c8579a",
   "metadata": {},
   "outputs": [],
   "source": [
    "lda = models.ldamodel.LdaModel.load('./ENmodel/batch1/14.model')"
   ]
  },
  {
   "cell_type": "code",
   "execution_count": 6,
   "id": "46adb363-5332-42d9-bdb4-991b2b5d147e",
   "metadata": {},
   "outputs": [
    {
     "data": {
      "text/plain": [
       "array([[0.10318536, 0.01840851, 0.23607971, ..., 0.01840849, 0.10754294,\n",
       "        0.10850319],\n",
       "       [0.03571467, 0.03571467, 0.03571467, ..., 0.03571467, 0.53570932,\n",
       "        0.03571467],\n",
       "       [0.03571446, 0.03571446, 0.03571458, ..., 0.03571454, 0.0357145 ,\n",
       "        0.0357145 ],\n",
       "       ...,\n",
       "       [0.01718935, 0.01718942, 0.17744535, ..., 0.0171893 , 0.27965906,\n",
       "        0.01718937],\n",
       "       [0.03571475, 0.03571475, 0.03571475, ..., 0.03571475, 0.03571475,\n",
       "        0.03571475],\n",
       "       [0.08279705, 0.07413941, 0.080988  , ..., 0.01478043, 0.14094882,\n",
       "        0.01478043]])"
      ]
     },
     "execution_count": 6,
     "metadata": {},
     "output_type": "execute_result"
    }
   ],
   "source": [
    "predict_matrix = np.zeros([len(corpus_tfidf), 14])\n",
    "for i in range(len(corpus_tfidf)):\n",
    "    row = lda[corpus_tfidf[i]]\n",
    "    for j, t in row:\n",
    "        predict_matrix[i][j] = t\n",
    "np.save('./ENdata/topic14/doc_topic_1to2_track.npy', predict_matrix)\n",
    "predict_matrix"
   ]
  },
  {
   "cell_type": "code",
   "execution_count": 7,
   "id": "b07189bc-465c-417c-b137-32cd58252d6c",
   "metadata": {},
   "outputs": [],
   "source": [
    "result = cls.predict(predict_matrix)"
   ]
  },
  {
   "cell_type": "code",
   "execution_count": 9,
   "id": "cc577320-f0c9-41c4-b386-f8fc1863644f",
   "metadata": {},
   "outputs": [
    {
     "data": {
      "text/plain": [
       "array([1407., 7627.,  996., 1697., 1443., 1625., 1983., 2094., 1122.,\n",
       "       1074., 1270.,  935., 1162., 1107.])"
      ]
     },
     "execution_count": 9,
     "metadata": {},
     "output_type": "execute_result"
    }
   ],
   "source": [
    "nums = np.zeros(14)\n",
    "for i in result:\n",
    "    nums[i] += 1\n",
    "nums"
   ]
  },
  {
   "cell_type": "code",
   "execution_count": 10,
   "id": "5369cd27-6b58-479a-89d8-703d0dc61877",
   "metadata": {},
   "outputs": [
    {
     "data": {
      "image/png": "[encoded data removed]",
      "text/plain": [
       "<Figure size 640x480 with 1 Axes>"
      ]
     },
     "metadata": {},
     "output_type": "display_data"
    }
   ],
   "source": [
    "plt.xlabel('topic')\n",
    "plt.ylabel('doc num')\n",
    "plt.bar(list(range(14)), nums)\n",
    "plt.savefig('./ENdata/topic14/第一阶段分类第二阶段柱形图.png')"
   ]
  },
  {
   "cell_type": "code",
   "execution_count": 14,
   "id": "51fce4a9-4ef1-4898-92d7-659746e1c167",
   "metadata": {},
   "outputs": [
    {
     "name": "stdout",
     "output_type": "stream",
     "text": [
      "(25542, 14)\n"
     ]
    }
   ],
   "source": [
    "print(cls.predict_proba(predict_matrix).shape)"
   ]
  },
  {
   "cell_type": "code",
   "execution_count": 13,
   "id": "d01ec9fe-8644-4c1c-9e38-84ececfeb18d",
   "metadata": {},
   "outputs": [
    {
     "data": {
      "text/plain": [
       "0.8326414153035461"
      ]
     },
     "execution_count": 13,
     "metadata": {},
     "output_type": "execute_result"
    }
   ],
   "source": [
    "maxPro = np.max(cls.predict_proba(predict_matrix), axis=1)\n",
    "np.mean(maxPro)"
   ]
  },
  {
   "cell_type": "code",
   "execution_count": 15,
   "id": "365e4eca-6b8e-420c-8e25-831199c67342",
   "metadata": {},
   "outputs": [
    {
     "data": {
      "text/plain": [
       "2961"
      ]
     },
     "execution_count": 15,
     "metadata": {},
     "output_type": "execute_result"
    }
   ],
   "source": [
    "maxPro = [item<=0.5 for item in maxPro]\n",
    "np.sum(maxPro)"
   ]
  },
  {
   "cell_type": "code",
   "execution_count": 38,
   "id": "ba2fc8cc-e824-466b-b001-8b52e89dc58e",
   "metadata": {
    "scrolled": true
   },
   "outputs": [
    {
     "data": {
      "text/html": [
       "<div>\n",
       "<style scoped>\n",
       "    .dataframe tbody tr th:only-of-type {\n",
       "        vertical-align: middle;\n",
       "    }\n",
       "\n",
       "    .dataframe tbody tr th {\n",
       "        vertical-align: top;\n",
       "    }\n",
       "\n",
       "    .dataframe thead th {\n",
       "        text-align: right;\n",
       "    }\n",
       "</style>\n",
       "<table border=\"1\" class=\"dataframe\">\n",
       "  <thead>\n",
       "    <tr style=\"text-align: right;\">\n",
       "      <th></th>\n",
       "      <th>time</th>\n",
       "      <th>text</th>\n",
       "    </tr>\n",
       "  </thead>\n",
       "  <tbody>\n",
       "    <tr>\n",
       "      <th>4</th>\n",
       "      <td>10月21日</td>\n",
       "      <td>真主党 火箭 导弹</td>\n",
       "    </tr>\n",
       "    <tr>\n",
       "      <th>12</th>\n",
       "      <td>10月21日</td>\n",
       "      <td>眼 以色列 媒体报道 军事基地 交火 守军 士兵 遗物 家属 部队 仓库 手机 钱包 电子产...</td>\n",
       "    </tr>\n",
       "    <tr>\n",
       "      <th>24</th>\n",
       "      <td>10月21日</td>\n",
       "      <td>资料 全美 名牌大学 教授 犹太人 全美 律师 行业 犹太人 福布斯 富豪榜 前 人位 犹太...</td>\n",
       "    </tr>\n",
       "    <tr>\n",
       "      <th>33</th>\n",
       "      <td>10月21日</td>\n",
       "      <td>热门 舆论 力压 人 人 流浪狗 以色列 子弹</td>\n",
       "    </tr>\n",
       "    <tr>\n",
       "      <th>40</th>\n",
       "      <td>10月21日</td>\n",
       "      <td>中国 公民 同胞 地区 国家 地区 公民 态度 态度 祖国 战争 平民 表示同情 祖国 指 ...</td>\n",
       "    </tr>\n",
       "    <tr>\n",
       "      <th>...</th>\n",
       "      <td>...</td>\n",
       "      <td>...</td>\n",
       "    </tr>\n",
       "    <tr>\n",
       "      <th>3192</th>\n",
       "      <td>11月03日</td>\n",
       "      <td>以色列国防军 工程 部队 加沙 地带 哈马斯 隧道</td>\n",
       "    </tr>\n",
       "    <tr>\n",
       "      <th>3207</th>\n",
       "      <td>11月03日</td>\n",
       "      <td>人类 自由人 联合体 路 奴隶 战争 全球 乱象 美国 代表 资本主义 私有制 制度 财富 ...</td>\n",
       "    </tr>\n",
       "    <tr>\n",
       "      <th>3210</th>\n",
       "      <td>11月03日</td>\n",
       "      <td>美国国防部 特种 部长 克里斯托弗 梅尔 证实 以色列 部署 特种部队 角色 哈马斯 人员 ...</td>\n",
       "    </tr>\n",
       "    <tr>\n",
       "      <th>3216</th>\n",
       "      <td>11月03日</td>\n",
       "      <td>哈马斯 性质 世界 分歧 恐怖主义 恐怖主义 国家 美国 加拿大 英国 日本 瑞士 以色列 ...</td>\n",
       "    </tr>\n",
       "    <tr>\n",
       "      <th>3231</th>\n",
       "      <td>11月03日</td>\n",
       "      <td>以色列国防军 加沙 布拉吉 难民营 废墟 孩子 父亲 工具 徒手 瓦砾 家庭</td>\n",
       "    </tr>\n",
       "  </tbody>\n",
       "</table>\n",
       "<p>436 rows × 2 columns</p>\n",
       "</div>"
      ],
      "text/plain": [
       "        time                                               text\n",
       "4     10月21日                                         真主党 火箭 导弹 \n",
       "12    10月21日  眼 以色列 媒体报道 军事基地 交火 守军 士兵 遗物 家属 部队 仓库 手机 钱包 电子产...\n",
       "24    10月21日  资料 全美 名牌大学 教授 犹太人 全美 律师 行业 犹太人 福布斯 富豪榜 前 人位 犹太...\n",
       "33    10月21日                           热门 舆论 力压 人 人 流浪狗 以色列 子弹 \n",
       "40    10月21日  中国 公民 同胞 地区 国家 地区 公民 态度 态度 祖国 战争 平民 表示同情 祖国 指 ...\n",
       "...      ...                                                ...\n",
       "3192  11月03日                         以色列国防军 工程 部队 加沙 地带 哈马斯 隧道 \n",
       "3207  11月03日  人类 自由人 联合体 路 奴隶 战争 全球 乱象 美国 代表 资本主义 私有制 制度 财富 ...\n",
       "3210  11月03日  美国国防部 特种 部长 克里斯托弗 梅尔 证实 以色列 部署 特种部队 角色 哈马斯 人员 ...\n",
       "3216  11月03日  哈马斯 性质 世界 分歧 恐怖主义 恐怖主义 国家 美国 加拿大 英国 日本 瑞士 以色列 ...\n",
       "3231  11月03日            以色列国防军 加沙 布拉吉 难民营 废墟 孩子 父亲 工具 徒手 瓦砾 家庭 \n",
       "\n",
       "[436 rows x 2 columns]"
      ]
     },
     "execution_count": 38,
     "metadata": {},
     "output_type": "execute_result"
    }
   ],
   "source": [
    "# 对新话题进行分析\n",
    "newTopic = [item<=0.5 for item in maxPro]\n",
    "newTexts = dataFrame[newTopic]\n",
    "selected_rows"
   ]
  },
  {
   "cell_type": "code",
   "execution_count": 39,
   "id": "9297289e-aa3a-41dd-af84-fadddec33be1",
   "metadata": {},
   "outputs": [],
   "source": [
    "texts = newTexts['text'].map(map2list).values\n",
    "dictionary = Dictionary(texts)\n",
    "# 压缩词向量，去掉出现的文章小于2的词，和在50%的文章都出现的词，整体长度限制在1000\n",
    "dictionary.filter_extremes(no_below=2, no_above=0.5, keep_n=1000)\n",
    "corpus = [dictionary.doc2bow(text) for text in texts]\n",
    "# 进行TF/IDF编码\n",
    "tfidf = models.TfidfModel(corpus)\n",
    "corpus_tfidf = tfidf[corpus]"
   ]
  },
  {
   "cell_type": "code",
   "execution_count": 42,
   "id": "f8e846af-89ad-40ae-8fc7-809d338c1325",
   "metadata": {},
   "outputs": [
    {
     "data": {
      "text/plain": [
       "[(0,\n",
       "  '0.013*\"中国\" + 0.010*\"世界\" + 0.009*\"国家\" + 0.007*\"和平\" + 0.007*\"国际\" + 0.007*\"人\" + 0.007*\"埃及\" + 0.006*\"巴以\" + 0.006*\"美国\" + 0.006*\"战争\" + 0.006*\"泽\" + 0.005*\"连斯基\" + 0.005*\"祖国\" + 0.005*\"乌克兰\" + 0.005*\"俄罗斯\" + 0.005*\"欧洲\" + 0.005*\"立场\" + 0.004*\"恐怖主义\" + 0.004*\"词\" + 0.004*\"阿拉伯\" + 0.004*\"局势\" + 0.004*\"巴勒斯坦\" + 0.004*\"民众\" + 0.004*\"社会\" + 0.004*\"哈马斯\"'),\n",
       " (1,\n",
       "  '0.011*\"哈马斯\" + 0.009*\"美国\" + 0.007*\"世界\" + 0.007*\"林肯\" + 0.007*\"德国\" + 0.007*\"联合国\" + 0.006*\"地道\" + 0.006*\"加沙\" + 0.006*\"布\" + 0.006*\"俄罗斯\" + 0.005*\"内\" + 0.005*\"巴勒斯坦\" + 0.005*\"人\" + 0.005*\"中国\" + 0.005*\"电视台\" + 0.005*\"战争\" + 0.005*\"媒\" + 0.005*\"叙利亚\" + 0.004*\"国务卿\" + 0.004*\"小时\" + 0.004*\"决议\" + 0.004*\"媒体\" + 0.004*\"代表\" + 0.004*\"人员\" + 0.004*\"情绪\"'),\n",
       " (2,\n",
       "  '0.009*\"记者\" + 0.007*\"人\" + 0.007*\"中国\" + 0.007*\"废墟\" + 0.006*\"哈马斯\" + 0.006*\"舆论\" + 0.006*\"特拉维夫\" + 0.005*\"家庭\" + 0.005*\"美国\" + 0.005*\"狗\" + 0.005*\"难民营\" + 0.005*\"火箭弹\" + 0.005*\"事件\" + 0.005*\"州长\" + 0.004*\"城市\" + 0.004*\"资本\" + 0.004*\"拜登\" + 0.004*\"地区\" + 0.004*\"前线\" + 0.004*\"地中海\" + 0.004*\"和平\" + 0.004*\"伊朗\" + 0.004*\"家人\" + 0.004*\"信息\" + 0.004*\"图\"'),\n",
       " (3,\n",
       "  '0.015*\"加沙\" + 0.014*\"地带\" + 0.012*\"巴勒斯坦\" + 0.012*\"人\" + 0.011*\"名\" + 0.009*\"时间\" + 0.009*\"哈马斯\" + 0.008*\"救济\" + 0.008*\"近东\" + 0.008*\"工程处\" + 0.008*\"土耳其\" + 0.007*\"卫生部\" + 0.007*\"尔多\" + 0.007*\"埃\" + 0.007*\"消息\" + 0.007*\"医院\" + 0.007*\"国家\" + 0.007*\"机构\" + 0.006*\"孩子\" + 0.006*\"新闻\" + 0.006*\"联合国\" + 0.006*\"难民\" + 0.006*\"无辜\" + 0.006*\"人道主义\" + 0.006*\"犹太人\"'),\n",
       " (4,\n",
       "  '0.013*\"以色列国防军\" + 0.009*\"加沙\" + 0.008*\"真主党\" + 0.007*\"哈马斯\" + 0.007*\"美国\" + 0.007*\"导弹\" + 0.007*\"地区\" + 0.007*\"制度\" + 0.006*\"人\" + 0.006*\"黎巴嫩\" + 0.006*\"人类\" + 0.006*\"地带\" + 0.006*\"话题\" + 0.005*\"来源\" + 0.005*\"战争\" + 0.005*\"部队\" + 0.005*\"联合体\" + 0.005*\"中东\" + 0.005*\"地面\" + 0.005*\"权威专家\" + 0.005*\"深度\" + 0.005*\"自由人\" + 0.005*\"央视网\" + 0.005*\"所有制\" + 0.004*\"军队\"')]"
      ]
     },
     "execution_count": 42,
     "metadata": {},
     "output_type": "execute_result"
    }
   ],
   "source": [
    "# 训练LDA\n",
    "lda = LdaModel(corpus=corpus_tfidf, id2word=dictionary, num_topics=5, passes=50)\n",
    "lda.print_topics(num_words=25)"
   ]
  },
  {
   "cell_type": "code",
   "execution_count": null,
   "id": "be7deff5-d067-443e-b8bf-92f72fee3640",
   "metadata": {},
   "outputs": [],
   "source": []
  }
 ],
 "metadata": {
  "kernelspec": {
   "display_name": "data",
   "language": "python",
   "name": "data"
  },
  "language_info": {
   "codemirror_mode": {
    "name": "ipython",
    "version": 3
   },
   "file_extension": ".py",
   "mimetype": "text/x-python",
   "name": "python",
   "nbconvert_exporter": "python",
   "pygments_lexer": "ipython3",
   "version": "3.8.18"
  }
 },
 "nbformat": 4,
 "nbformat_minor": 5
}
