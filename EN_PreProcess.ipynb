{
 "cells": [
  {
   "cell_type": "code",
   "execution_count": 1,
   "id": "133b4daf-dfc8-4a25-bbe0-42f28f097d54",
   "metadata": {},
   "outputs": [],
   "source": [
    "import pandas as pd\n",
    "from sklearn.feature_extraction.text import TfidfVectorizer\n",
    "from sklearn.cluster import KMeans\n",
    "from nltk.corpus import stopwords\n",
    "from nltk.tokenize import word_tokenize\n",
    "from sklearn.decomposition import PCA\n",
    "import matplotlib.pyplot as plt\n",
    "import re\n",
    "import numpy as np\n",
    "from bs4 import BeautifulSoup\n",
    "from nltk.stem import WordNetLemmatizer\n",
    "from nltk.sentiment.vader import SentimentIntensityAnalyzer\n",
    "import seaborn as sns\n",
    "import matplotlib.pyplot as plt\n",
    "from wordcloud import WordCloud, STOPWORDS\n",
    "from sklearn.feature_extraction.text import TfidfVectorizer\n",
    "from sklearn.decomposition import LatentDirichletAllocation"
   ]
  },
  {
   "cell_type": "code",
   "execution_count": 31,
   "id": "3e5f3b56-da24-4093-bab9-67a4fd45fd01",
   "metadata": {},
   "outputs": [],
   "source": [
    "df = pd.read_csv('./DataSet/reddit_PSE_ISR_simple.csv')"
   ]
  },
  {
   "cell_type": "code",
   "execution_count": 32,
   "id": "3afa0f02-f727-42e7-b527-da23ccded8b7",
   "metadata": {
    "collapsed": true,
    "jupyter": {
     "outputs_hidden": true
    }
   },
   "outputs": [
    {
     "name": "stdout",
     "output_type": "stream",
     "text": [
      "No mas Hamas.\n",
      "Israel=100% colonizer.  Indigenous Palestinian Jews, Samaritans and Christians all face the same genocide.   Yes, Jews are indigenous to Palestine and those Jews are killed by colonizing Jews.\n",
      "Yeah so this is the exact thing their ancestors were told. It was what my Pontian great grandparents were told. It was what the assyrians and Greek communities were told. \n",
      "\n",
      "Maybe in context the forcefulness of the threat is a bit stronger. Like when the people who helped genocide you once before start saying the same things it has added weight\n",
      "There are 35-45k estimated Hamas terrorist operating in Gaza. This beyond just using special forces and surgical strikes. Israel needs to continue what they are doing sending in ground troops to cut Gaza apart piece by piece. Isolating and killing pockets of terrorists as they move deeper into Gaza.\n",
      "People keep going on about the 1967 borders. If they wanted the 1967 borders they should have accepted them then instead of launching the 6 Days War. If you reject a treaty and launch a war of extermination and then lose? Guess what? You lose territory. \n",
      "\n",
      "You don’t get to reject peace and stable borders, launch wars, engage in near constant terrorism, and complain 60 years later that you now want the old deal that you already VIOLENTLY rejected.\n",
      "You sweet summer child... \n",
      "\n",
      "You clearly underestimate the number of people not in their sane mind out there...\n",
      "Arabs were invaders too. Two state solution, one accepts, one rejects, one loses the war. Sounds like how history works.\n",
      "Because that's how I feel. 🤷‍♀️\n",
      "The UK has also been seen as the bad guys as well. They did a lot of nasty stuff during WW2, i.e the 1943 Bengal famine and of course people always mention the RAF bombing of German cities.\n",
      "\n",
      "Also, what are you even saying? Weird, because John Oliver mentioned how batshit the current Netanyahu government is nowadays.\n",
      "Is a condemnation a condemnation if you retract it?\n"
     ]
    }
   ],
   "source": [
    "for i in range(10):\n",
    "    print(df.self_text[i])"
   ]
  },
  {
   "cell_type": "code",
   "execution_count": 27,
   "id": "e5bac7d9-676f-4bbb-bd3c-7dad82902ce7",
   "metadata": {},
   "outputs": [],
   "source": [
    "def keep_main_text(text):\n",
    "    text = str(text)\n",
    "    # 使用正则表达式匹配英文字符、标点符号和空格  \n",
    "    pattern = r'[ !\\\"a-zA-Z.,?;:\\']'  \n",
    "    # pattern = r'[a-zA-Z.,!?;: \\n\\t]'\n",
    "    matches = re.findall(pattern, text)  \n",
    "      \n",
    "    # 输出结果  \n",
    "    return ''.join(matches)"
   ]
  },
  {
   "cell_type": "code",
   "execution_count": 28,
   "id": "e9b9250e-d7b7-4048-a145-36bdc44fa314",
   "metadata": {},
   "outputs": [],
   "source": [
    "df['self_text'] = df['self_text'].map(keep_main_text)"
   ]
  },
  {
   "cell_type": "code",
   "execution_count": 30,
   "id": "b34c99f9-283d-40f6-b7f9-59d004bac168",
   "metadata": {
    "scrolled": true
   },
   "outputs": [
    {
     "name": "stdout",
     "output_type": "stream",
     "text": [
      "No mas Hamas.\n",
      "Israel colonizer.  Indigenous Palestinian Jews, Samaritans and Christians all face the same genocide.   Yes, Jews are indigenous to Palestine and those Jews are killed by colonizing Jews.\n",
      "Yeah so this is the exact thing their ancestors were told. It was what my Pontian great grandparents were told. It was what the assyrians and Greek communities were told. Maybe in context the forcefulness of the threat is a bit stronger. Like when the people who helped genocide you once before start saying the same things it has added weight\n",
      "There are k estimated Hamas terrorist operating in Gaza. This beyond just using special forces and surgical strikes. Israel needs to continue what they are doing sending in ground troops to cut Gaza apart piece by piece. Isolating and killing pockets of terrorists as they move deeper into Gaza.\n",
      "People keep going on about the  borders. If they wanted the  borders they should have accepted them then instead of launching the  Days War. If you reject a treaty and launch a war of extermination and then lose? Guess what? You lose territory. You dont get to reject peace and stable borders, launch wars, engage in near constant terrorism, and complain  years later that you now want the old deal that you already VIOLENTLY rejected.\n",
      "You sweet summer child... You clearly underestimate the number of people not in their sane mind out there...\n",
      "Arabs were invaders too. Two state solution, one accepts, one rejects, one loses the war. Sounds like how history works.\n",
      "Because that's how I feel. \n",
      "The UK has also been seen as the bad guys as well. They did a lot of nasty stuff during WW, i.e the  Bengal famine and of course people always mention the RAF bombing of German cities.Also, what are you even saying? Weird, because John Oliver mentioned how batshit the current Netanyahu government is nowadays.\n",
      "Is a condemnation a condemnation if you retract it?\n"
     ]
    }
   ],
   "source": [
    "for i in range(10):\n",
    "    print(df.self_text[i])"
   ]
  },
  {
   "cell_type": "code",
   "execution_count": 34,
   "id": "9bdee839-9bcc-41ed-9cfd-a3e5fd52fb65",
   "metadata": {},
   "outputs": [],
   "source": [
    "def clean(s):\n",
    "    s = str(s)\n",
    "    s = s.replace('/',' or ').replace('&',' and ')\n",
    "    #设置缩略词的正则表达式\n",
    "    pat_is = re.compile(\"(it|he|she|that|this|there|here)(\\'s)\",re.I)\n",
    "    pat_s = re.compile(\"(?<=[a-zA-Z])\\'s\")\n",
    "    pat_s2 = re.compile(\"(?<=s)\\'s?\")\n",
    "    pat_not = re.compile(\"(?<=[a-zA-Z])\\'t\")\n",
    "    pat_would = re.compile(\"(?<=[a-zA-Z])\\'d\")\n",
    "    pat_will = re.compile(\"(?<=[a-zA-Z])\\'ll\")\n",
    "    pat_am = re.compile(\"(?<=[I|i])\\'m\")\n",
    "    pat_are = re.compile(\"(?<=[a-zA-Z])\\'re\")\n",
    "    pat_ve = re.compile(\"(?<=[a-zA-Z])\\'ve\")\n",
    "    #使用正则表达式进行展开\n",
    "    new_text = pat_is.sub(r\"\\1 is\", s)\n",
    "    new_text = pat_s.sub(\"\",new_text)\n",
    "    new_text = pat_s2.sub(\"\",new_text)\n",
    "    new_text = pat_not.sub(\" not\",new_text)\n",
    "    new_text = pat_would.sub(\" would\",new_text)\n",
    "    new_text = pat_will.sub(\" will\",new_text)\n",
    "    new_text = pat_am.sub(\" am\",new_text)\n",
    "    new_text = pat_are.sub(\" are\",new_text)\n",
    "    new_text = pat_ve.sub(\" have\",new_text)\n",
    "    new_text = new_text.replace('\\'',' ')\n",
    "    # print(new_text)\n",
    "    return new_text"
   ]
  },
  {
   "cell_type": "code",
   "execution_count": 41,
   "id": "0659b4a6-50fb-429e-aeab-09afd33775a0",
   "metadata": {},
   "outputs": [],
   "source": [
    "df['self_text'] = df['self_text'].map(clean)"
   ]
  },
  {
   "cell_type": "code",
   "execution_count": 42,
   "id": "e875ae3c-4392-4990-ab9d-7fda97491c4b",
   "metadata": {
    "scrolled": true
   },
   "outputs": [
    {
     "name": "stdout",
     "output_type": "stream",
     "text": [
      "No mas Hamas.\n",
      "Israel colonizer.  Indigenous Palestinian Jews, Samaritans and Christians all face the same genocide.   Yes, Jews are indigenous to Palestine and those Jews are killed by colonizing Jews.\n",
      "Yeah so this is the exact thing their ancestors were told. It was what my Pontian great grandparents were told. It was what the assyrians and Greek communities were told. Maybe in context the forcefulness of the threat is a bit stronger. Like when the people who helped genocide you once before start saying the same things it has added weight\n",
      "There are k estimated Hamas terrorist operating in Gaza. This beyond just using special forces and surgical strikes. Israel needs to continue what they are doing sending in ground troops to cut Gaza apart piece by piece. Isolating and killing pockets of terrorists as they move deeper into Gaza.\n",
      "People keep going on about the  borders. If they wanted the  borders they should have accepted them then instead of launching the  Days War. If you reject a treaty and launch a war of extermination and then lose? Guess what? You lose territory. You dont get to reject peace and stable borders, launch wars, engage in near constant terrorism, and complain  years later that you now want the old deal that you already VIOLENTLY rejected.\n",
      "You sweet summer child... You clearly underestimate the number of people not in their sane mind out there...\n",
      "Arabs were invaders too. Two state solution, one accepts, one rejects, one loses the war. Sounds like how history works.\n",
      "Because that is how I feel. \n",
      "The UK has also been seen as the bad guys as well. They did a lot of nasty stuff during WW, i.e the  Bengal famine and of course people always mention the RAF bombing of German cities.Also, what are you even saying? Weird, because John Oliver mentioned how batshit the current Netanyahu government is nowadays.\n",
      "Is a condemnation a condemnation if you retract it?\n"
     ]
    }
   ],
   "source": [
    "for i in range(10):\n",
    "    print(df.self_text[i])"
   ]
  },
  {
   "cell_type": "code",
   "execution_count": 44,
   "id": "2e20d0fb-1bce-4138-b79e-1b279709d96b",
   "metadata": {},
   "outputs": [],
   "source": [
    "df.to_csv('./DataSet/reddit.csv', index = False)"
   ]
  },
  {
   "cell_type": "code",
   "execution_count": 55,
   "id": "2fb6afa0-bf54-463b-aa19-f357b03ac35d",
   "metadata": {},
   "outputs": [
    {
     "data": {
      "text/html": [
       "<div>\n",
       "<style scoped>\n",
       "    .dataframe tbody tr th:only-of-type {\n",
       "        vertical-align: middle;\n",
       "    }\n",
       "\n",
       "    .dataframe tbody tr th {\n",
       "        vertical-align: top;\n",
       "    }\n",
       "\n",
       "    .dataframe thead th {\n",
       "        text-align: right;\n",
       "    }\n",
       "</style>\n",
       "<table border=\"1\" class=\"dataframe\">\n",
       "  <thead>\n",
       "    <tr style=\"text-align: right;\">\n",
       "      <th></th>\n",
       "      <th>created_time</th>\n",
       "      <th>self_text</th>\n",
       "    </tr>\n",
       "  </thead>\n",
       "  <tbody>\n",
       "    <tr>\n",
       "      <th>0</th>\n",
       "      <td>2023-12-02 23:26:34</td>\n",
       "      <td>No mas Hamas.</td>\n",
       "    </tr>\n",
       "    <tr>\n",
       "      <th>1</th>\n",
       "      <td>2023-12-02 23:26:17</td>\n",
       "      <td>Israel colonizer.  Indigenous Palestinian Jews...</td>\n",
       "    </tr>\n",
       "    <tr>\n",
       "      <th>2</th>\n",
       "      <td>2023-12-02 23:26:17</td>\n",
       "      <td>Yeah so this is the exact thing their ancestor...</td>\n",
       "    </tr>\n",
       "    <tr>\n",
       "      <th>3</th>\n",
       "      <td>2023-12-02 23:26:15</td>\n",
       "      <td>There are k estimated Hamas terrorist operatin...</td>\n",
       "    </tr>\n",
       "    <tr>\n",
       "      <th>4</th>\n",
       "      <td>2023-12-02 23:26:12</td>\n",
       "      <td>People keep going on about the  borders. If th...</td>\n",
       "    </tr>\n",
       "    <tr>\n",
       "      <th>...</th>\n",
       "      <td>...</td>\n",
       "      <td>...</td>\n",
       "    </tr>\n",
       "    <tr>\n",
       "      <th>333806</th>\n",
       "      <td>2023-09-02 13:57:37</td>\n",
       "      <td>Something similar happened in Sweden recently.</td>\n",
       "    </tr>\n",
       "    <tr>\n",
       "      <th>333807</th>\n",
       "      <td>2023-09-02 13:33:15</td>\n",
       "      <td>They should leave the anger and hatred back wh...</td>\n",
       "    </tr>\n",
       "    <tr>\n",
       "      <th>333808</th>\n",
       "      <td>2023-09-02 13:24:53</td>\n",
       "      <td>Something similar happened in Germany recently...</td>\n",
       "    </tr>\n",
       "    <tr>\n",
       "      <th>333809</th>\n",
       "      <td>2023-09-02 12:17:34</td>\n",
       "      <td>Who are the yellow shirts? The referees?</td>\n",
       "    </tr>\n",
       "    <tr>\n",
       "      <th>333810</th>\n",
       "      <td>2023-09-02 12:02:19</td>\n",
       "      <td>Something similar happened in Toronto recently.</td>\n",
       "    </tr>\n",
       "  </tbody>\n",
       "</table>\n",
       "<p>333811 rows × 2 columns</p>\n",
       "</div>"
      ],
      "text/plain": [
       "               created_time                                          self_text\n",
       "0       2023-12-02 23:26:34                                      No mas Hamas.\n",
       "1       2023-12-02 23:26:17  Israel colonizer.  Indigenous Palestinian Jews...\n",
       "2       2023-12-02 23:26:17  Yeah so this is the exact thing their ancestor...\n",
       "3       2023-12-02 23:26:15  There are k estimated Hamas terrorist operatin...\n",
       "4       2023-12-02 23:26:12  People keep going on about the  borders. If th...\n",
       "...                     ...                                                ...\n",
       "333806  2023-09-02 13:57:37     Something similar happened in Sweden recently.\n",
       "333807  2023-09-02 13:33:15  They should leave the anger and hatred back wh...\n",
       "333808  2023-09-02 13:24:53  Something similar happened in Germany recently...\n",
       "333809  2023-09-02 12:17:34           Who are the yellow shirts? The referees?\n",
       "333810  2023-09-02 12:02:19    Something similar happened in Toronto recently.\n",
       "\n",
       "[333811 rows x 2 columns]"
      ]
     },
     "execution_count": 55,
     "metadata": {},
     "output_type": "execute_result"
    }
   ],
   "source": [
    "df = pd.read_csv('./DataSet/reddit.csv')\n",
    "df = df.dropna(how='any', subset=['self_text']).reset_index(drop=True)\n",
    "df"
   ]
  },
  {
   "cell_type": "code",
   "execution_count": 56,
   "id": "5aac70b9-f636-44e0-9417-b5c3097a0f99",
   "metadata": {},
   "outputs": [],
   "source": [
    "from nltk import word_tokenize, pos_tag\n",
    "from nltk.corpus import wordnet\n",
    "from nltk.stem import WordNetLemmatizer\n",
    "from nltk.corpus import stopwords\n",
    "import string\n",
    "\n",
    "# 获取单词的词性\n",
    "def get_wordnet_pos(tag):\n",
    "    if tag.startswith('J'):\n",
    "        return wordnet.ADJ\n",
    "    elif tag.startswith('V'):\n",
    "        return wordnet.VERB\n",
    "    elif tag.startswith('N'):\n",
    "        return wordnet.NOUN\n",
    "    elif tag.startswith('R'):\n",
    "        return wordnet.ADV\n",
    "    else:\n",
    "        return None\n",
    "\n",
    "stopword = stopwords.words('english')\n",
    "def spilt(text):\n",
    "    text = text.lower()\n",
    "    tokens = word_tokenize(text)  # 分词\n",
    "    tagged_sent = pos_tag(tokens)     # 获取单词词性\n",
    "    \n",
    "    wnl = WordNetLemmatizer()\n",
    "    lemmas_sent = []\n",
    "    for tag in tagged_sent:\n",
    "        wordnet_pos = get_wordnet_pos(tag[1])\n",
    "        if wordnet_pos == wordnet.NOUN:\n",
    "            c = wnl.lemmatize(tag[0], pos=wordnet_pos) # 词形还原\n",
    "            if c not in stopword and c not in string.punctuation:\n",
    "                lemmas_sent.append(c)\n",
    "    \n",
    "    return \" \".join(lemmas_sent)"
   ]
  },
  {
   "cell_type": "code",
   "execution_count": 57,
   "id": "806c6664-3a69-44f3-acec-3957022af52d",
   "metadata": {},
   "outputs": [],
   "source": [
    "df['self_text'] = df['self_text'].map(spilt)"
   ]
  },
  {
   "cell_type": "code",
   "execution_count": 61,
   "id": "5c6f8ac1-ea15-4e9c-ae94-7d4dfb03aa7d",
   "metadata": {
    "scrolled": true
   },
   "outputs": [
    {
     "name": "stdout",
     "output_type": "stream",
     "text": [
      "hamas\n",
      "colonizer jew samaritan christian genocide jew jew jew\n",
      "thing ancestor grandparent assyrian community context forcefulness threat people start thing weight\n",
      "k operating gaza force strike israel ground troop piece piece isolating pocket terrorist gaza\n",
      "people border border day war treaty war extermination territory peace border launch war engage terrorism year deal\n",
      "summer child number people sane mind\n",
      "arab invader state solution accepts reject war sound history\n",
      "feel\n",
      "uk guy lot stuff ww famine course people raf bombing cities.also weird john government\n",
      "condemnation condemnation\n",
      "hamas\n",
      "take people society suffers lot racism okay civilian half country earth people israel lebanon judaism forbids activity sex marriage israel fact palestinian racism racist arab video man ramallah respect arab racist black black video guy ramallah http youtu.bectyeozxo issue palestine israel issue right dignity land living people gender rhetoric\n",
      "school city gaza u one country anymore refugee\n",
      "matter stake itll year transitory presidency genocide nope\n",
      "everyone israel\n",
      "thank lot confusion\n",
      "idf lot damage earth fact infrastructure gaza number earth\n",
      "thats\n",
      "hamas negotiator\n",
      "policy terrorism\n",
      "<class 'pandas.core.frame.DataFrame'>\n",
      "RangeIndex: 321873 entries, 0 to 321872\n",
      "Data columns (total 2 columns):\n",
      " #   Column        Non-Null Count   Dtype \n",
      "---  ------        --------------   ----- \n",
      " 0   created_time  321873 non-null  object\n",
      " 1   self_text     321873 non-null  object\n",
      "dtypes: object(2)\n",
      "memory usage: 4.9+ MB\n"
     ]
    }
   ],
   "source": [
    "for i in range(20):\n",
    "    print(df.self_text[i])\n",
    "df.info()"
   ]
  },
  {
   "cell_type": "code",
   "execution_count": 62,
   "id": "79bbbf4c-aebc-4e80-8eda-218b8167d13c",
   "metadata": {},
   "outputs": [
    {
     "name": "stdout",
     "output_type": "stream",
     "text": [
      "<class 'pandas.core.frame.DataFrame'>\n",
      "RangeIndex: 321873 entries, 0 to 321872\n",
      "Data columns (total 2 columns):\n",
      " #   Column        Non-Null Count   Dtype \n",
      "---  ------        --------------   ----- \n",
      " 0   created_time  321873 non-null  object\n",
      " 1   self_text     321873 non-null  object\n",
      "dtypes: object(2)\n",
      "memory usage: 4.9+ MB\n"
     ]
    }
   ],
   "source": [
    "df = df.replace('', np.nan)\n",
    "df = df.dropna(how='any', subset=['self_text']).reset_index(drop=True)\n",
    "df.info()"
   ]
  },
  {
   "cell_type": "code",
   "execution_count": 63,
   "id": "6d49d250-eb4d-4489-8a6f-cc172264cab1",
   "metadata": {},
   "outputs": [],
   "source": [
    "df.to_csv('./DataSet/reddit_clean.csv', index=False)"
   ]
  },
  {
   "cell_type": "code",
   "execution_count": 68,
   "id": "0cf85d29-17d1-414d-93cc-792a5ea6edf9",
   "metadata": {},
   "outputs": [],
   "source": [
    "df1 = df[(df['created_time'] >= '2023-10-07')]"
   ]
  },
  {
   "cell_type": "code",
   "execution_count": 66,
   "id": "398f1207-5883-4f50-ad11-6eded2969167",
   "metadata": {},
   "outputs": [],
   "source": [
    "df1.to_csv('./ENdata/gt1007.csv', index=False) # 时间大于10月07日的评论"
   ]
  },
  {
   "cell_type": "code",
   "execution_count": 69,
   "id": "838117ab-e2ae-4b57-bfe6-8b64ad3c985d",
   "metadata": {},
   "outputs": [],
   "source": [
    "df1 = df1.rename(columns={'created_time': 'time', 'self_text': 'text'}) "
   ]
  },
  {
   "cell_type": "code",
   "execution_count": 71,
   "id": "4c68fa1d-4cd2-4229-8fac-e01874a7a312",
   "metadata": {},
   "outputs": [],
   "source": [
    "df1.to_csv('./ENdata/gt1007.csv', index=False)"
   ]
  },
  {
   "cell_type": "code",
   "execution_count": 2,
   "id": "fbc62ab9-d9bb-4ada-92aa-d346653f340c",
   "metadata": {},
   "outputs": [
    {
     "name": "stdout",
     "output_type": "stream",
     "text": [
      "<class 'pandas.core.frame.DataFrame'>\n",
      "RangeIndex: 319365 entries, 0 to 319364\n",
      "Data columns (total 2 columns):\n",
      " #   Column  Non-Null Count   Dtype \n",
      "---  ------  --------------   ----- \n",
      " 0   time    319365 non-null  object\n",
      " 1   text    319365 non-null  object\n",
      "dtypes: object(2)\n",
      "memory usage: 4.9+ MB\n"
     ]
    }
   ],
   "source": [
    "df = pd.read_csv('./ENdata/gt1007.csv')\n",
    "df.info()"
   ]
  },
  {
   "cell_type": "code",
   "execution_count": 3,
   "id": "3e7cee34-0aba-4b4b-8e8b-d576daeced23",
   "metadata": {},
   "outputs": [
    {
     "name": "stdout",
     "output_type": "stream",
     "text": [
      "<class 'pandas.core.frame.DataFrame'>\n",
      "Index: 22905 entries, 296460 to 319364\n",
      "Data columns (total 2 columns):\n",
      " #   Column  Non-Null Count  Dtype \n",
      "---  ------  --------------  ----- \n",
      " 0   time    22905 non-null  object\n",
      " 1   text    22905 non-null  object\n",
      "dtypes: object(2)\n",
      "memory usage: 536.8+ KB\n"
     ]
    }
   ],
   "source": [
    "df_1 = df[(df['time'] >= '2023-10-01') & (df['time'] <= '2023-11-01')]\n",
    "df_1.info()\n",
    "df_1.to_csv('./ENdata/reddit_10.csv', index=False)"
   ]
  },
  {
   "cell_type": "code",
   "execution_count": 4,
   "id": "dd233a45-6c99-48c8-8eca-5416bf416c63",
   "metadata": {},
   "outputs": [
    {
     "name": "stdout",
     "output_type": "stream",
     "text": [
      "<class 'pandas.core.frame.DataFrame'>\n",
      "Index: 275408 entries, 21052 to 296459\n",
      "Data columns (total 2 columns):\n",
      " #   Column  Non-Null Count   Dtype \n",
      "---  ------  --------------   ----- \n",
      " 0   time    275408 non-null  object\n",
      " 1   text    275408 non-null  object\n",
      "dtypes: object(2)\n",
      "memory usage: 6.3+ MB\n"
     ]
    }
   ],
   "source": [
    "df_2 = df[(df['time'] >= '2023-11-01') & (df['time'] <= '2023-12-01')]\n",
    "df_2.info()\n",
    "df_2.to_csv('./ENdata/reddit_11.csv', index=False)"
   ]
  },
  {
   "cell_type": "code",
   "execution_count": 80,
   "id": "3394c8d3-4671-4c12-a68e-12c54941730d",
   "metadata": {},
   "outputs": [
    {
     "name": "stdout",
     "output_type": "stream",
     "text": [
      "<class 'pandas.core.frame.DataFrame'>\n",
      "Index: 125290 entries, 161239 to 286528\n",
      "Data columns (total 2 columns):\n",
      " #   Column  Non-Null Count   Dtype \n",
      "---  ------  --------------   ----- \n",
      " 0   time    125290 non-null  object\n",
      " 1   text    125290 non-null  object\n",
      "dtypes: object(2)\n",
      "memory usage: 2.9+ MB\n"
     ]
    }
   ],
   "source": [
    "df_3 = df[(df['time'] >= '2023-11-04') & (df['time'] <= '2023-11-18')]\n",
    "df_3.info()\n",
    "df_3.to_csv('./ENdata/reddit_3.csv', index=False)"
   ]
  },
  {
   "cell_type": "code",
   "execution_count": 81,
   "id": "3e9f177d-c1b1-4ce2-bda6-34b7f269946b",
   "metadata": {},
   "outputs": [
    {
     "name": "stdout",
     "output_type": "stream",
     "text": [
      "<class 'pandas.core.frame.DataFrame'>\n",
      "Index: 151412 entries, 9827 to 161238\n",
      "Data columns (total 2 columns):\n",
      " #   Column  Non-Null Count   Dtype \n",
      "---  ------  --------------   ----- \n",
      " 0   time    151412 non-null  object\n",
      " 1   text    151412 non-null  object\n",
      "dtypes: object(2)\n",
      "memory usage: 3.5+ MB\n"
     ]
    }
   ],
   "source": [
    "df_4 = df[(df['time'] >= '2023-11-18') & (df['time'] <= '2023-12-02')]\n",
    "df_4.info()\n",
    "df_4.to_csv('./ENdata/reddit_4.csv', index=False)"
   ]
  },
  {
   "cell_type": "code",
   "execution_count": 82,
   "id": "0985a36e-11af-463c-89b7-52dd493c298c",
   "metadata": {},
   "outputs": [
    {
     "name": "stdout",
     "output_type": "stream",
     "text": [
      "<class 'pandas.core.frame.DataFrame'>\n",
      "Index: 9827 entries, 0 to 9826\n",
      "Data columns (total 2 columns):\n",
      " #   Column  Non-Null Count  Dtype \n",
      "---  ------  --------------  ----- \n",
      " 0   time    9827 non-null   object\n",
      " 1   text    9827 non-null   object\n",
      "dtypes: object(2)\n",
      "memory usage: 230.3+ KB\n"
     ]
    }
   ],
   "source": [
    "df_5 = df[(df['time'] >= '2023-12-02') & (df['time'] <= '2023-12-03')]\n",
    "df_5.info()"
   ]
  },
  {
   "cell_type": "code",
   "execution_count": null,
   "id": "8816dab4-f366-444e-b820-e901103b6311",
   "metadata": {},
   "outputs": [],
   "source": []
  }
 ],
 "metadata": {
  "kernelspec": {
   "display_name": "data",
   "language": "python",
   "name": "data"
  },
  "language_info": {
   "codemirror_mode": {
    "name": "ipython",
    "version": 3
   },
   "file_extension": ".py",
   "mimetype": "text/x-python",
   "name": "python",
   "nbconvert_exporter": "python",
   "pygments_lexer": "ipython3",
   "version": "3.8.18"
  }
 },
 "nbformat": 4,
 "nbformat_minor": 5
}
